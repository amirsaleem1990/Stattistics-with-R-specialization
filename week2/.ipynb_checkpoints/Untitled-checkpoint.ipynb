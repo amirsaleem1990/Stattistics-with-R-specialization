{
 "cells": [
  {
   "cell_type": "code",
   "execution_count": 1,
   "metadata": {},
   "outputs": [
    {
     "name": "stderr",
     "output_type": "stream",
     "text": [
      "Loading required package: BayesFactor\n",
      "Loading required package: coda\n",
      "Loading required package: Matrix\n",
      "************\n",
      "Welcome to BayesFactor 0.9.12-4.2. If you have questions, please contact Richard Morey (richarddmorey@gmail.com).\n",
      "\n",
      "Type BFManual() to open the manual.\n",
      "************\n",
      "\n",
      "Attaching package: ‘dplyr’\n",
      "\n",
      "The following objects are masked from ‘package:stats’:\n",
      "\n",
      "    filter, lag\n",
      "\n",
      "The following objects are masked from ‘package:base’:\n",
      "\n",
      "    intersect, setdiff, setequal, union\n",
      "\n"
     ]
    }
   ],
   "source": [
    "library(statsr)\n",
    "library(dplyr)\n",
    "library(ggplot2)"
   ]
  },
  {
   "cell_type": "code",
   "execution_count": null,
   "metadata": {},
   "outputs": [],
   "source": [
    "data(mlb11)\n",
    "mlb11 %>%\n",
    "  summarise(cor(runs, at_bats))\n",
    "plot_ss(x = at_bats, y = runs, data = mlb11)\n",
    "plot_ss(x = at_bats, y = runs, data = mlb11, showSquares = TRUE)\n",
    "m1 <- lm(runs ~ at_bats, data = mlb11)\n",
    "summary(m1)\n",
    "ggplot(data = mlb11, aes(x = at_bats, y = runs)) +\n",
    "  geom_point() +\n",
    "  stat_smooth(method = \"lm\", se = FALSE)\n",
    "mlb11 %>%\n",
    "  filter(at_bats == 5579) %>%\n",
    "  select(runs)\n",
    "ggplot(data = m1, aes(x = .fitted, y = .resid)) +\n",
    "  geom_point() +\n",
    "  geom_hline(yintercept = 0, linetype = \"dashed\") +\n",
    "  xlab(\"Fitted values\") +\n",
    "  ylab(\"Residuals\")\n",
    "ggplot(data = m1, aes(x = .resid)) +\n",
    "  geom_histogram(binwidth = 25) +\n",
    "  xlab(\"Residuals\")\n",
    "ggplot(data = m1, aes(sample = .resid)) +\n",
    "  stat_qq()\n"
   ]
  },
  {
   "cell_type": "markdown",
   "metadata": {},
   "source": [
    "<br><br><center><font size=10 color='blue'>Introduction to linear regression</font><br><br>"
   ]
  },
  {
   "cell_type": "markdown",
   "metadata": {},
   "source": [
    "## Batter up\n",
    "#### The movie Moneyball focuses on the “quest for the secret of success in baseball”. It follows a low-budget team, the Oakland Athletics, who believed that underused statistics, such as a player’s ability to get on base, better predict the ability to score runs than typical statistics like home runs, RBIs (runs batted in), and batting average. Obtaining players who excelled in these underused statistics turned out to be much more affordable for the team.\n",
    "#### In this lab we’ll be looking at data from all 30 Major League Baseball teams and examining the linear relationship between runs scored in a season and a number of other player statistics. Our aim will be to summarize these relationships both graphically and numerically in order to find which variable, if any, helps us best predict a team’s runs scored in a season."
   ]
  },
  {
   "cell_type": "markdown",
   "metadata": {},
   "source": [
    "# Getting Started\n",
    "## Load packages\n",
    "#### In this lab we will explore the data using the dplyr package and visualize it using the ggplot2 package for data visualization. The data can be found in the companion package for this course, statsr.\n",
    "#### Let’s load the packages."
   ]
  },
  {
   "cell_type": "code",
   "execution_count": 5,
   "metadata": {},
   "outputs": [],
   "source": [
    "library(statsr)\n",
    "library(dplyr)\n",
    "library(ggplot2)"
   ]
  },
  {
   "cell_type": "markdown",
   "metadata": {},
   "source": [
    "# The data\n",
    "#### Let’s load up the data for the 2011 season."
   ]
  },
  {
   "cell_type": "code",
   "execution_count": 6,
   "metadata": {},
   "outputs": [],
   "source": [
    "data(mlb11)"
   ]
  },
  {
   "cell_type": "markdown",
   "metadata": {},
   "source": [
    "#### In addition to runs scored, there are seven traditionally used variables in the data set: at-bats, hits, home runs, batting average, strikeouts, stolen bases, and wins. There are also three newer variables: on-base percentage, slugging percentage, and on-base plus slugging. For the first portion of the analysis we’ll consider the seven traditional variables. At the end of the lab, you’ll work with the three newer variables on your own.\n",
    "#### What type of plot would you use to display the relationship between runs and one of the other numerical variables?\n",
    "-  histogram\n",
    "-  box plot\n",
    "-  scatterplot\n",
    "-  bar plot\n",
    "\n",
    "#### Plot the relationship between runs and at_bats, using at_bats as the explanatory variable. \n",
    "#### The relationship appears to be …\n",
    "\n",
    "-  linear\n",
    "-  negative\n",
    "-  horseshoe-shaped (∩∩)\n",
    "-  u-shaped (∪∪)"
   ]
  },
  {
   "cell_type": "code",
   "execution_count": 9,
   "metadata": {},
   "outputs": [
    {
     "data": {
      "image/png": "[encoded data removed]",
      "text/plain": [
       "plot without title"
      ]
     },
     "metadata": {},
     "output_type": "display_data"
    }
   ],
   "source": [
    "plot(mlb11$at_bats, mlb11$runs)"
   ]
  },
  {
   "cell_type": "code",
   "execution_count": 25,
   "metadata": {},
   "outputs": [
    {
     "data": {
      "text/plain": [
       "\n",
       "Call:\n",
       "lm(formula = runs ~ at_bats, data = mlb11)\n",
       "\n",
       "Residuals:\n",
       "    Min      1Q  Median      3Q     Max \n",
       "-125.58  -47.05  -16.59   54.40  176.87 \n",
       "\n",
       "Coefficients:\n",
       "              Estimate Std. Error t value Pr(>|t|)    \n",
       "(Intercept) -2789.2429   853.6957  -3.267 0.002871 ** \n",
       "at_bats         0.6305     0.1545   4.080 0.000339 ***\n",
       "---\n",
       "Signif. codes:  0 ‘***’ 0.001 ‘**’ 0.01 ‘*’ 0.05 ‘.’ 0.1 ‘ ’ 1\n",
       "\n",
       "Residual standard error: 66.47 on 28 degrees of freedom\n",
       "Multiple R-squared:  0.3729,\tAdjusted R-squared:  0.3505 \n",
       "F-statistic: 16.65 on 1 and 28 DF,  p-value: 0.0003388\n"
      ]
     },
     "metadata": {},
     "output_type": "display_data"
    }
   ],
   "source": [
    "mod1  <- lm(runs ~ at_bats, data = mlb11)\n",
    "summary(mod1)"
   ]
  },
  {
   "cell_type": "markdown",
   "metadata": {},
   "source": [
    "#### Fit a new model that uses homeruns to predict runs. Using the estimates from the R output, write the equation of the regression line. What does the slope tell us in the context of the relationship between success of a team and its home runs?"
   ]
  },
  {
   "cell_type": "code",
   "execution_count": 17,
   "metadata": {},
   "outputs": [
    {
     "data": {
      "text/plain": [
       "\n",
       "Call:\n",
       "lm(formula = runs ~ homeruns, data = mlb11)\n",
       "\n",
       "Residuals:\n",
       "    Min      1Q  Median      3Q     Max \n",
       "-91.615 -33.410   3.231  24.292 104.631 \n",
       "\n",
       "Coefficients:\n",
       "            Estimate Std. Error t value Pr(>|t|)    \n",
       "(Intercept) 415.2389    41.6779   9.963 1.04e-10 ***\n",
       "homeruns      1.8345     0.2677   6.854 1.90e-07 ***\n",
       "---\n",
       "Signif. codes:  0 ‘***’ 0.001 ‘**’ 0.01 ‘*’ 0.05 ‘.’ 0.1 ‘ ’ 1\n",
       "\n",
       "Residual standard error: 51.29 on 28 degrees of freedom\n",
       "Multiple R-squared:  0.6266,\tAdjusted R-squared:  0.6132 \n",
       "F-statistic: 46.98 on 1 and 28 DF,  p-value: 1.9e-07\n"
      ]
     },
     "metadata": {},
     "output_type": "display_data"
    }
   ],
   "source": [
    "mod2  <- lm(runs ~ homeruns, data=mlb11)\n",
    "summary(mod2)"
   ]
  },
  {
   "cell_type": "code",
   "execution_count": 34,
   "metadata": {},
   "outputs": [
    {
     "data": {
      "text/html": [
       "<table>\n",
       "<thead><tr><th></th><th scope=col>mod1.residuals</th><th scope=col>mlb11.runs</th><th scope=col>mlb11.at_bats</th></tr></thead>\n",
       "<tbody>\n",
       "\t<tr><th scope=row>16</th><td>-15.59552</td><td>713      </td><td>5579     </td></tr>\n",
       "</tbody>\n",
       "</table>\n"
      ],
      "text/latex": [
       "\\begin{tabular}{r|lll}\n",
       "  & mod1.residuals & mlb11.runs & mlb11.at\\_bats\\\\\n",
       "\\hline\n",
       "\t16 & -15.59552 & 713       & 5579     \\\\\n",
       "\\end{tabular}\n"
      ],
      "text/markdown": [
       "\n",
       "| <!--/--> | mod1.residuals | mlb11.runs | mlb11.at_bats | \n",
       "|---|\n",
       "| 16 | -15.59552 | 713       | 5579      | \n",
       "\n",
       "\n"
      ],
      "text/plain": [
       "   mod1.residuals mlb11.runs mlb11.at_bats\n",
       "16 -15.59552      713        5579         "
      ]
     },
     "metadata": {},
     "output_type": "display_data"
    }
   ],
   "source": [
    "# What is the residual for the prediction of runs for a team with 5,579 at-bats? Choose the closest answer.\n",
    "d = data.frame(mod1$residuals, mlb11$runs, mlb11$at_bats)\n",
    "d[d$mlb11.at_bats == 5579, ]"
   ]
  },
  {
   "cell_type": "code",
   "execution_count": 40,
   "metadata": {},
   "outputs": [
    {
     "data": {},
     "metadata": {},
     "output_type": "display_data"
    },
    {
     "data": {
      "image/png": "[encoded data removed]",
      "text/plain": [
       "plot without title"
      ]
     },
     "metadata": {},
     "output_type": "display_data"
    }
   ],
   "source": [
    "\n",
    "\n",
    "ggplot(data = mod1, aes(x = .fitted, y = .resid)) +\n",
    "  geom_point() +\n",
    "  geom_hline(yintercept = 0, linetype = \"dashed\") +\n",
    "  xlab(\"Fitted values\") +\n",
    "  ylab(\"Residuals\")"
   ]
  },
  {
   "cell_type": "code",
   "execution_count": 41,
   "metadata": {},
   "outputs": [
    {
     "data": {},
     "metadata": {},
     "output_type": "display_data"
    },
    {
     "data": {
      "image/png": "[encoded data removed]",
      "text/plain": [
       "plot without title"
      ]
     },
     "metadata": {},
     "output_type": "display_data"
    }
   ],
   "source": [
    "ggplot(data = mod1, aes(x = .resid)) +\n",
    "  geom_histogram(binwidth = 25) +\n",
    "  xlab(\"Residuals\")"
   ]
  },
  {
   "cell_type": "code",
   "execution_count": 62,
   "metadata": {},
   "outputs": [
    {
     "data": {
      "text/html": [
       "<dl class=dl-horizontal>\n",
       "\t<dt>runs</dt>\n",
       "\t\t<dd>1</dd>\n",
       "\t<dt>at_bats</dt>\n",
       "\t\t<dd>0.610627046720669</dd>\n",
       "\t<dt>hits</dt>\n",
       "\t\t<dd>0.801210813231711</dd>\n",
       "\t<dt>homeruns</dt>\n",
       "\t\t<dd>0.791557685558218</dd>\n",
       "\t<dt>bat_avg</dt>\n",
       "\t\t<dd>0.809985885461508</dd>\n",
       "\t<dt>strikeouts</dt>\n",
       "\t\t<dd>-0.411531204450297</dd>\n",
       "\t<dt>stolen_bases</dt>\n",
       "\t\t<dd>0.0539814103796295</dd>\n",
       "\t<dt>wins</dt>\n",
       "\t\t<dd>0.600808771113306</dd>\n",
       "\t<dt>new_onbase</dt>\n",
       "\t\t<dd>0.921469072430616</dd>\n",
       "\t<dt>new_slug</dt>\n",
       "\t\t<dd>0.947032400929154</dd>\n",
       "\t<dt>new_obs</dt>\n",
       "\t\t<dd>0.966916297490023</dd>\n",
       "</dl>\n"
      ],
      "text/latex": [
       "\\begin{description*}\n",
       "\\item[runs] 1\n",
       "\\item[at\\textbackslash{}\\_bats] 0.610627046720669\n",
       "\\item[hits] 0.801210813231711\n",
       "\\item[homeruns] 0.791557685558218\n",
       "\\item[bat\\textbackslash{}\\_avg] 0.809985885461508\n",
       "\\item[strikeouts] -0.411531204450297\n",
       "\\item[stolen\\textbackslash{}\\_bases] 0.0539814103796295\n",
       "\\item[wins] 0.600808771113306\n",
       "\\item[new\\textbackslash{}\\_onbase] 0.921469072430616\n",
       "\\item[new\\textbackslash{}\\_slug] 0.947032400929154\n",
       "\\item[new\\textbackslash{}\\_obs] 0.966916297490023\n",
       "\\end{description*}\n"
      ],
      "text/markdown": [
       "runs\n",
       ":   1at_bats\n",
       ":   0.610627046720669hits\n",
       ":   0.801210813231711homeruns\n",
       ":   0.791557685558218bat_avg\n",
       ":   0.809985885461508strikeouts\n",
       ":   -0.411531204450297stolen_bases\n",
       ":   0.0539814103796295wins\n",
       ":   0.600808771113306new_onbase\n",
       ":   0.921469072430616new_slug\n",
       ":   0.947032400929154new_obs\n",
       ":   0.966916297490023\n",
       "\n"
      ],
      "text/plain": [
       "        runs      at_bats         hits     homeruns      bat_avg   strikeouts \n",
       "  1.00000000   0.61062705   0.80121081   0.79155769   0.80998589  -0.41153120 \n",
       "stolen_bases         wins   new_onbase     new_slug      new_obs \n",
       "  0.05398141   0.60080877   0.92146907   0.94703240   0.96691630 "
      ]
     },
     "metadata": {},
     "output_type": "display_data"
    }
   ],
   "source": [
    "cor(mlb11[,-1])[1,]"
   ]
  },
  {
   "cell_type": "code",
   "execution_count": null,
   "metadata": {},
   "outputs": [],
   "source": []
  }
 ],
 "metadata": {
  "kernelspec": {
   "display_name": "R",
   "language": "R",
   "name": "ir"
  },
  "language_info": {
   "codemirror_mode": "r",
   "file_extension": ".r",
   "mimetype": "text/x-r-source",
   "name": "R",
   "pygments_lexer": "r",
   "version": "3.5.1"
  }
 },
 "nbformat": 4,
 "nbformat_minor": 2
}
