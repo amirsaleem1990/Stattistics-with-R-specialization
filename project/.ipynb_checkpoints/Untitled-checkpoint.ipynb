{
 "cells": [
  {
   "cell_type": "markdown",
   "metadata": {},
   "source": [
    "# Data"
   ]
  },
  {
   "cell_type": "code",
   "execution_count": 1,
   "metadata": {},
   "outputs": [],
   "source": [
    "load(\"movies.Rdata\")\n",
    "columns_to_remove  <- c(\"title\", 'director', 'actor1', 'actor2', 'actor3', 'actor4', 'actor5', 'imdb_url', 'rt_url')\n",
    "movies  <- movies[, -which(names(movies) %in% columns_to_remove)]\n",
    "columns_to_remove  <- c('thtr_rel_year', 'thtr_rel_month','thtr_rel_day')\n",
    "movies  <- movies[, -which(names(movies) %in% columns_to_remove)]"
   ]
  },
  {
   "cell_type": "code",
   "execution_count": 7,
   "metadata": {},
   "outputs": [
    {
     "name": "stderr",
     "output_type": "stream",
     "text": [
      "Warning message in Ops.factor(left, right):\n",
      "“‘+’ not meaningful for factors”"
     ]
    },
    {
     "ename": "ERROR",
     "evalue": "Error in lm.fit(x, y, offset = offset, singular.ok = singular.ok, ...): 0 (non-NA) cases\n",
     "output_type": "error",
     "traceback": [
      "Error in lm.fit(x, y, offset = offset, singular.ok = singular.ok, ...): 0 (non-NA) cases\nTraceback:\n",
      "1. variable_selection(ok_vars, balance_vars)",
      "2. append(val, summary(lm(formula(paste(\"audience_score ~ \", paste(ok_variables, \n .     collapse = \" + \") + movies[i])), data = movies))$adj.r.squared)   # at line 9-10 of file <text>",
      "3. summary(lm(formula(paste(\"audience_score ~ \", paste(ok_variables, \n .     collapse = \" + \") + movies[i])), data = movies))   # at line 9-10 of file <text>",
      "4. lm(formula(paste(\"audience_score ~ \", paste(ok_variables, collapse = \" + \") + \n .     movies[i])), data = movies)   # at line 9-10 of file <text>",
      "5. lm.fit(x, y, offset = offset, singular.ok = singular.ok, ...)",
      "6. stop(\"0 (non-NA) cases\")"
     ]
    }
   ],
   "source": [
    "ok_vars  <- c('audience_score')\n",
    "variable_selection <- function(ok_vars, balance_variables){\n",
    "#     data <- movies[, -14]\n",
    "#     data  <- data[!names(data) %in% vars]\n",
    "    nam <- c()\n",
    "    val  <- c()\n",
    "    for (i in balance_variables){\n",
    "        nam  <- append(nam, i)\n",
    "        val  <- append(val, summary(lm(formula(paste(\"audience_score ~ \", \n",
    "                    paste(ok_vars, collapse=\" + \") + movies[i])), data=movies))$adj.r.squared)\n",
    "    }\n",
    "    a  <- data.frame(nam, val)\n",
    "    print(arrange(a, desc(val))[1,])\n",
    "}\n",
    "update <- function(n){\n",
    "    balance_vars <<- names(movies)[!names(movies) %in% ok_vars]\n",
    "    ok_vars <<- append(ok_vars, n)\n",
    "#     vars <<- vars[!vars %in% c(n)]\n",
    "}\n",
    "update('imdb_rating')\n",
    "variable_selection(ok_vars, balance_vars)\n",
    "\n"
   ]
  },
  {
   "cell_type": "code",
   "execution_count": 3,
   "metadata": {},
   "outputs": [],
   "source": [
    "update <- function(n){\n",
    "    ok_vars <<- append(ok_vars, n)\n",
    "    balance_vars <<- names(movies)[!names(movies) %in% ok_vars]\n",
    "#     vars <<- vars[!vars %in% c(n)]\n",
    "}\n",
    "update('imdb_rating')"
   ]
  },
  {
   "cell_type": "code",
   "execution_count": 10,
   "metadata": {},
   "outputs": [
    {
     "data": {
      "text/plain": [
       "audience_score ~ audience_score + imdb_rating"
      ]
     },
     "metadata": {},
     "output_type": "display_data"
    }
   ],
   "source": [
    "formula(paste(\"audience_score ~ \", \n",
    "                    paste(ok_vars, collapse=\" + \")))"
   ]
  },
  {
   "cell_type": "code",
   "execution_count": null,
   "metadata": {},
   "outputs": [],
   "source": []
  },
  {
   "cell_type": "code",
   "execution_count": null,
   "metadata": {},
   "outputs": [],
   "source": []
  },
  {
   "cell_type": "code",
   "execution_count": null,
   "metadata": {},
   "outputs": [],
   "source": []
  },
  {
   "cell_type": "code",
   "execution_count": null,
   "metadata": {},
   "outputs": [],
   "source": []
  },
  {
   "cell_type": "code",
   "execution_count": null,
   "metadata": {},
   "outputs": [],
   "source": []
  },
  {
   "cell_type": "code",
   "execution_count": null,
   "metadata": {},
   "outputs": [],
   "source": []
  },
  {
   "cell_type": "code",
   "execution_count": null,
   "metadata": {},
   "outputs": [],
   "source": []
  },
  {
   "cell_type": "code",
   "execution_count": null,
   "metadata": {},
   "outputs": [],
   "source": []
  },
  {
   "cell_type": "code",
   "execution_count": null,
   "metadata": {},
   "outputs": [],
   "source": []
  },
  {
   "cell_type": "code",
   "execution_count": null,
   "metadata": {},
   "outputs": [],
   "source": []
  },
  {
   "cell_type": "code",
   "execution_count": null,
   "metadata": {},
   "outputs": [],
   "source": []
  },
  {
   "cell_type": "code",
   "execution_count": null,
   "metadata": {},
   "outputs": [],
   "source": []
  },
  {
   "cell_type": "code",
   "execution_count": null,
   "metadata": {},
   "outputs": [],
   "source": []
  },
  {
   "cell_type": "code",
   "execution_count": null,
   "metadata": {},
   "outputs": [],
   "source": []
  },
  {
   "cell_type": "code",
   "execution_count": null,
   "metadata": {},
   "outputs": [],
   "source": []
  },
  {
   "cell_type": "code",
   "execution_count": null,
   "metadata": {},
   "outputs": [],
   "source": []
  },
  {
   "cell_type": "code",
   "execution_count": null,
   "metadata": {},
   "outputs": [],
   "source": []
  },
  {
   "cell_type": "code",
   "execution_count": null,
   "metadata": {},
   "outputs": [],
   "source": []
  },
  {
   "cell_type": "code",
   "execution_count": null,
   "metadata": {},
   "outputs": [],
   "source": []
  },
  {
   "cell_type": "code",
   "execution_count": null,
   "metadata": {},
   "outputs": [],
   "source": []
  },
  {
   "cell_type": "code",
   "execution_count": null,
   "metadata": {},
   "outputs": [],
   "source": []
  },
  {
   "cell_type": "code",
   "execution_count": null,
   "metadata": {},
   "outputs": [],
   "source": [
    "\n",
    "model <- lm(formula(paste(\"audience_score ~ \", \n",
    "                 paste(ok, collapse=\" + \"))), data=movies)\n",
    "\n",
    "(adj.r.squared <- summary(model)$adj.r.squared)\n"
   ]
  },
  {
   "cell_type": "code",
   "execution_count": null,
   "metadata": {},
   "outputs": [],
   "source": []
  },
  {
   "cell_type": "code",
   "execution_count": null,
   "metadata": {},
   "outputs": [],
   "source": []
  }
 ],
 "metadata": {
  "kernelspec": {
   "display_name": "R",
   "language": "R",
   "name": "ir"
  },
  "language_info": {
   "codemirror_mode": "r",
   "file_extension": ".r",
   "mimetype": "text/x-r-source",
   "name": "R",
   "pygments_lexer": "r",
   "version": "3.5.1"
  }
 },
 "nbformat": 4,
 "nbformat_minor": 2
}
