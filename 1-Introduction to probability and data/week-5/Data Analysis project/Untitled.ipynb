{
 "cells": [
  {
   "cell_type": "code",
   "execution_count": 8,
   "metadata": {},
   "outputs": [],
   "source": [
    "library(ggplot2)\n",
    "library(dplyr)\n",
    "library(plotly)\n",
    "load(\"brfss2013.RData\")\n",
    "df = brfss2013\n",
    "df <- df[df$X_age80 >= 18,]\n",
    "names(df) <- gsub(\"X_\", \"\", names(df))\n",
    "rm(brfss2013)"
   ]
  },
  {
   "cell_type": "code",
   "execution_count": null,
   "metadata": {},
   "outputs": [],
   "source": []
  },
  {
   "cell_type": "code",
   "execution_count": null,
   "metadata": {},
   "outputs": [],
   "source": []
  },
  {
   "cell_type": "code",
   "execution_count": null,
   "metadata": {},
   "outputs": [],
   "source": []
  },
  {
   "cell_type": "code",
   "execution_count": 22,
   "metadata": {},
   "outputs": [
    {
     "data": {
      "text/html": [
       "<ol class=list-inline>\n",
       "\t<li>Female</li>\n",
       "\t<li>Male</li>\n",
       "\t<li>&lt;NA&gt;</li>\n",
       "</ol>\n",
       "\n",
       "<details>\n",
       "\t<summary style=display:list-item;cursor:pointer>\n",
       "\t\t<strong>Levels</strong>:\n",
       "\t</summary>\n",
       "\t<ol class=list-inline>\n",
       "\t\t<li>'Male'</li>\n",
       "\t\t<li>'Female'</li>\n",
       "\t</ol>\n",
       "</details>"
      ],
      "text/latex": [
       "\\begin{enumerate*}\n",
       "\\item Female\n",
       "\\item Male\n",
       "\\item <NA>\n",
       "\\end{enumerate*}\n",
       "\n",
       "\\emph{Levels}: \\begin{enumerate*}\n",
       "\\item 'Male'\n",
       "\\item 'Female'\n",
       "\\end{enumerate*}\n"
      ],
      "text/markdown": [
       "1. Female\n",
       "2. Male\n",
       "3. &lt;NA&gt;\n",
       "\n",
       "\n",
       "\n",
       "**Levels**: 1. 'Male'\n",
       "2. 'Female'\n",
       "\n",
       "\n"
      ],
      "text/plain": [
       "[1] Female Male   <NA>  \n",
       "Levels: Male Female"
      ]
     },
     "metadata": {},
     "output_type": "display_data"
    }
   ],
   "source": [
    "unique(df$sex)"
   ]
  },
  {
   "cell_type": "code",
   "execution_count": null,
   "metadata": {},
   "outputs": [],
   "source": [
    "dff <- df %>% \n",
    "    group_by(sex, income2 ) %>% \n",
    "    summarise(count = n(), total = mean(total_sex), percent = count / total)\n",
    "dff <- na.omit(dff)\n",
    "dff <- select(dff, income2, sex, percent)\n",
    "x = c('< $10000', '< $15000', '< $25000', '< $35000', '<$50000', '< $75000', '>= 75000')\n",
    "ggplot(data=dff, aes(x=income2, y=percent, fill=sex)) +\n",
    "    geom_bar(stat=\"identity\")+#, position=position_dodge()\n",
    "  theme(axis.text.x  = element_text(angle=90, vjust=0.5, size=12))\n",
    "```\n",
    "\n",
    "\n",
    "\n",
    "**Research quesion 2:**\n",
    "\n",
    "```{r}\n",
    "df <- na.omit(df[,c(\"genhlth\", \"hlthpln1\", \"marital\", \"sleptim1\")])\n",
    "gp <- df %>%\n",
    "    group_by(genhlth, hlthpln1) %>%\n",
    "    summarise(count = n(), avg.sleptime = mean(sleptim1))\n",
    "ggplot(gp, aes(x = genhlth, y = avg.sleptime, fill=hlthpln1)) + geom_bar(stat=\"identity\")\n",
    "```\n",
    "\n",
    "\n",
    "\n",
    "**Research quesion 3:**\n",
    "\n",
    "```{r}\n",
    "df_rest_genhlth <- df %>% filter(misrstls != \"NA\") %>% mutate(gen_hlth = ifelse(genhlth == \"Poor\", \"Poor\", \"Good\")) %>% filter(gen_hlth != \"NA\")\n",
    "ggplot(df_rest_genhlth, aes(x = misrstls, fill = gen_hlth)) + geom_bar(position=position_dodge()) + scale_fill_discrete(name = \"General Health\") + xlab(\"Frequency of restless days\") + ylab(\"Proportion\")\n",
    "```\n",
    "df <- df[, c('children', 'sex', 'genhlth')]\n",
    "df <- na.omit(df)\n",
    "gp <- df %>%\n",
    "    group_by(children, genhlth, sex) %>%\n",
    "    summarise(count = n())\n",
    "gp$genhelth <- NaN\n",
    "gp$genhelth[gp$genhlth == 'Excellent'] <- 5\n",
    "gp$genhelth[gp$genhlth == 'Very good'] <- 4\n",
    "gp$genhelth[gp$genhlth == 'Good'] <- 3\n",
    "gp$genhelth[gp$genhlth == 'Fair'] <- 2\n",
    "gp$genhelth[gp$genhlth == 'Poor'] <- 1\n",
    "ggplot(gp, aes(x = children, y = genhelth)) + geom_bar(stat=\"identity\", position = 'dodge')#, fill=sex\n",
    "\n",
    "\n",
    "\n",
    "\n",
    "\n",
    "df <- df[, c('educa', 'sex', 'income2')]\n",
    "df <- na.omit(df)\n",
    "gp <- df %>%\n",
    "    group_by(educa, sex) %>%\n",
    "    summarise(count = n())\n",
    "ggplot(data = gp, aes(x = educa, y = count, fill = sex)) + geom_bar(stat = 'identity', position = 'dodge')+\n",
    "theme(axis.text.x  = element_text(angle=90))\n"
   ]
  }
 ],
 "metadata": {
  "kernelspec": {
   "display_name": "R",
   "language": "R",
   "name": "ir"
  },
  "language_info": {
   "codemirror_mode": "r",
   "file_extension": ".r",
   "mimetype": "text/x-r-source",
   "name": "R",
   "pygments_lexer": "r",
   "version": "3.6.2"
  }
 },
 "nbformat": 4,
 "nbformat_minor": 4
}
